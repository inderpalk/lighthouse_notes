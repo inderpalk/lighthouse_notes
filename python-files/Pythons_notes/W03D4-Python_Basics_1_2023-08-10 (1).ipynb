{
 "cells": [
  {
   "cell_type": "markdown",
   "id": "721e8e09",
   "metadata": {},
   "source": [
    "# Lighthouse Labs\n",
    "## W03D4 Python Basics 1\n",
    "Instructor: Simon Dawkins  \n"
   ]
  },
  {
   "cell_type": "markdown",
   "id": "f3b9ef84",
   "metadata": {},
   "source": [
    "## Agenda\n",
    "\n",
    "In this notebook we will cover some of the basics of python. The topics we will cover listed below. \n",
    "- Syntax\n",
    "- Data Types\n",
    "- For Loops\n",
    "- While Loops\n",
    "- Control Flow (If and Else Statements)\n",
    "\n",
    "We're mainly going to focus on the core operations, the ones that you will use most often. There is much, much more that you can do with all of the different data types in Python.\n",
    "\n",
    "There's a lot here so it may seem pretty dry, but it will be useful for you going forward as a quick Python cheatsheet.\n"
   ]
  },
  {
   "cell_type": "markdown",
   "id": "c8d5f940",
   "metadata": {},
   "source": [
    "### Whitespace\n",
    "- Python programs are organized with one statement per line. \n",
    "- Each statement occupies one line, and is separated by a line break\n",
    "- Some code blocks (loops, functions, etc) are created with indents\n"
   ]
  },
  {
   "cell_type": "markdown",
   "id": "d0076afb",
   "metadata": {},
   "source": [
    "#### Separating statements\n",
    "\n",
    "rust uses semicolons:\n",
    "```rust\n",
    "// addition\n",
    "add = 5 + 6;\n",
    "// subtraction\n",
    "sub = 1 - 2;\n",
    "```\n",
    "\n",
    "lisp uses parentheses:\n",
    "```lisp\n",
    ";addition\n",
    "(setq add (+ 5 6))\n",
    ";subtraction\n",
    "(setq sub (- 1 2))\n",
    "```\n",
    "\n",
    "python uses **line breaks**:\n",
    "```python\n",
    "# addition\n",
    "add = 5 + 6\n",
    "# subtraction\n",
    "sub = 1 - 2\n",
    "```"
   ]
  },
  {
   "cell_type": "markdown",
   "id": "f7476cc8",
   "metadata": {},
   "source": [
    "#### Code blocks/functions\n",
    "javascript uses braces (curly brackets):\n",
    "```javascript \n",
    "function mult(num1, num2) {\n",
    "  return num1 * num2;\n",
    "}\n",
    "```\n",
    "\n",
    "python uses **indents**:\n",
    "```python\n",
    "def mult(num1, num2):\n",
    "    return num1 * num2\n",
    "```"
   ]
  },
  {
   "cell_type": "markdown",
   "id": "55f2aa64",
   "metadata": {},
   "source": [
    "### Variables\n",
    "\n",
    "- Variables are names that we give to objects.\n",
    "\n",
    "**Why use Variables?**\n",
    "- Helps organize our code\n",
    "- Store Data\n",
    "- Reuse data again and again"
   ]
  },
  {
   "cell_type": "code",
   "execution_count": 2,
   "id": "b6f98cf0",
   "metadata": {},
   "outputs": [
    {
     "name": "stdout",
     "output_type": "stream",
     "text": [
      "variables hold data. assign them with the = sign\n",
      "variables hold data. assign them with the = sign\n"
     ]
    }
   ],
   "source": [
    "var_info = 'variables hold data. assign them with the = sign'\n",
    "\n",
    "print('variables hold data. assign them with the = sign')\n",
    "print(var_info)"
   ]
  },
  {
   "cell_type": "markdown",
   "id": "c30a22ad",
   "metadata": {},
   "source": [
    "### Built in Data Types - Values and Objects\n",
    "\n",
    "We will been working with values, which are pieces of data that a computer program works with, such as a number or text.\n",
    "We will assign a lot of these values to objects (variables) with the assignment operator `=`.\n",
    "These values will always belong to a data type\n",
    "\n",
    "\n",
    "Here are some data types built-in to the Python language:\n",
    "\n",
    "* Integers - `int`\n",
    "* Floating-point numbers - `float`\n",
    "* Strings - `str`\n",
    "* Booleans - `bool` - two values: True and False.\n",
    "* Lists - `list`\n",
    "* Tuples - `tuple`\n",
    "* Sets - `set`\n",
    "* Dictionaries - `dict`\n",
    "\n",
    "\n",
    "\n"
   ]
  },
  {
   "cell_type": "markdown",
   "id": "7863f294",
   "metadata": {},
   "source": [
    "### Integers & Floats"
   ]
  },
  {
   "cell_type": "code",
   "execution_count": 6,
   "id": "56fe21d7",
   "metadata": {},
   "outputs": [
    {
     "data": {
      "text/plain": [
       "int"
      ]
     },
     "execution_count": 6,
     "metadata": {},
     "output_type": "execute_result"
    }
   ],
   "source": [
    "type(1)"
   ]
  },
  {
   "cell_type": "code",
   "execution_count": 10,
   "id": "dc736a8f",
   "metadata": {},
   "outputs": [
    {
     "data": {
      "text/plain": [
       "float"
      ]
     },
     "execution_count": 10,
     "metadata": {},
     "output_type": "execute_result"
    }
   ],
   "source": [
    "type(-1.0)"
   ]
  },
  {
   "cell_type": "code",
   "execution_count": null,
   "id": "b3c89d8a",
   "metadata": {},
   "outputs": [],
   "source": [
    "# usethe type() function to check the type of an object\n"
   ]
  },
  {
   "cell_type": "code",
   "execution_count": 44,
   "id": "46a3089f",
   "metadata": {},
   "outputs": [
    {
     "data": {
      "text/plain": [
       "2"
      ]
     },
     "execution_count": 44,
     "metadata": {},
     "output_type": "execute_result"
    }
   ],
   "source": [
    "a = 2\n",
    "b = 3\n",
    "\n",
    "\n",
    "c = 5/3\n",
    "round(c)"
   ]
  },
  {
   "cell_type": "code",
   "execution_count": 13,
   "id": "941a8e7b",
   "metadata": {},
   "outputs": [
    {
     "data": {
      "text/plain": [
       "-2"
      ]
     },
     "execution_count": 13,
     "metadata": {},
     "output_type": "execute_result"
    }
   ],
   "source": []
  },
  {
   "cell_type": "markdown",
   "id": "0b0c5b2c",
   "metadata": {},
   "source": [
    "### Arithmetic with variables"
   ]
  },
  {
   "cell_type": "code",
   "execution_count": null,
   "id": "0f7087ff",
   "metadata": {},
   "outputs": [],
   "source": [
    "a = -2\n",
    "b = 12.9\n",
    "\n",
    "# Arithmetic\n",
    "c = a + 1    # Arithmetic with literals and variables\n",
    "c = a + b    # Arithmetic with just variables\n",
    "c = c + a    # c becomes its old value + a\n",
    "c = a - b    # Subtraction\n",
    "c = a * b    # Multiplication\n",
    "c = b / a    # Division\n",
    "c = (a + b) * 2 - a    # Compound calculations - PEMDAS\n",
    "c = b // a # floor division\n",
    "c = a ** b # exponents\n",
    "\n",
    "# Functions on numbers\n",
    "c = round(8.187, 2)    # Round up to the second decimal point"
   ]
  },
  {
   "cell_type": "markdown",
   "id": "996dd237",
   "metadata": {},
   "source": [
    "#### Type Casting ints and floats"
   ]
  },
  {
   "cell_type": "code",
   "execution_count": 47,
   "id": "63d07b45",
   "metadata": {},
   "outputs": [
    {
     "data": {
      "text/plain": [
       "12"
      ]
     },
     "execution_count": 47,
     "metadata": {},
     "output_type": "execute_result"
    }
   ],
   "source": [
    "a = -2\n",
    "b = 12.9\n",
    "# cast int to float\n",
    "c = float(a)\n",
    "\n",
    "# cast float to int\n",
    "c = int(b)\n",
    "c"
   ]
  },
  {
   "cell_type": "markdown",
   "id": "8085d0da",
   "metadata": {},
   "source": [
    "### Strings"
   ]
  },
  {
   "cell_type": "code",
   "execution_count": 56,
   "id": "3f5d27bb",
   "metadata": {},
   "outputs": [
    {
     "name": "stdout",
     "output_type": "stream",
     "text": [
      "This\n",
      "is a\n",
      "multiline\n"
     ]
    }
   ],
   "source": [
    "# Strings are a sequence of symbols in quotes\n",
    "# Without the quotes, Python tries to interpret text as variable names\n",
    "a = \"IMAGINATION is more important than knowledge\"\n",
    "\n",
    "\n",
    "# Strings can contain any symbols, not just letters\n",
    "b = 'The Meaning of Life is 42.'\n",
    "\n",
    "c = \"\"\"this\n",
    "is A\n",
    "mulTiline\"\"\"\n",
    "\n",
    "# single, double, triple single, and triple double quotes\n",
    "\n",
    "# Concatenation (combining)\n",
    "d = a + b\n",
    "\n",
    "\n",
    "# Functions on strings \n",
    "# Note: these functions don't change the original variables. \n",
    "# They return copies with the function applied\n",
    "e = b.upper()\n",
    "f = b.lower()\n",
    "g = c.capitalize()\n",
    "\n",
    "print(g)"
   ]
  },
  {
   "cell_type": "code",
   "execution_count": 58,
   "id": "57c907c7",
   "metadata": {},
   "outputs": [
    {
     "data": {
      "text/plain": [
       "'HELLO'"
      ]
     },
     "execution_count": 58,
     "metadata": {},
     "output_type": "execute_result"
    }
   ],
   "source": [
    "h = \"hello\".upper()\n",
    "h"
   ]
  },
  {
   "cell_type": "markdown",
   "id": "318f5756",
   "metadata": {},
   "source": [
    "#### Type casting with strings"
   ]
  },
  {
   "cell_type": "code",
   "execution_count": 64,
   "id": "d88d0075",
   "metadata": {},
   "outputs": [
    {
     "ename": "ValueError",
     "evalue": "could not convert string to float: 'ten'",
     "output_type": "error",
     "traceback": [
      "\u001b[1;31m---------------------------------------------------------------------------\u001b[0m",
      "\u001b[1;31mValueError\u001b[0m                                Traceback (most recent call last)",
      "Cell \u001b[1;32mIn[64], line 8\u001b[0m\n\u001b[0;32m      3\u001b[0m j \u001b[38;5;241m=\u001b[39m \u001b[38;5;28mstr\u001b[39m(\u001b[38;5;28;01mTrue\u001b[39;00m)\n\u001b[0;32m      7\u001b[0m \u001b[38;5;66;03m# cast a string to a numeric type\u001b[39;00m\n\u001b[1;32m----> 8\u001b[0m j \u001b[38;5;241m=\u001b[39m \u001b[38;5;28;43mfloat\u001b[39;49m\u001b[43m(\u001b[49m\u001b[38;5;124;43m'\u001b[39;49m\u001b[38;5;124;43mten\u001b[39;49m\u001b[38;5;124;43m'\u001b[39;49m\u001b[43m)\u001b[49m\n\u001b[0;32m      9\u001b[0m j\n",
      "\u001b[1;31mValueError\u001b[0m: could not convert string to float: 'ten'"
     ]
    }
   ],
   "source": [
    "# anything can be cast TO a string, but not the other way around\n",
    "# cast a numeric type to a string\n",
    "j = str(True)\n",
    "\n",
    "\n",
    "\n",
    "# cast a string to a numeric type\n",
    "j = float('ten')\n",
    "j"
   ]
  },
  {
   "cell_type": "markdown",
   "id": "3141cab4",
   "metadata": {},
   "source": [
    "***"
   ]
  },
  {
   "cell_type": "markdown",
   "id": "d43abbee",
   "metadata": {},
   "source": [
    "## Advanced Data Types\n"
   ]
  },
  {
   "cell_type": "markdown",
   "id": "5bb9ec4f",
   "metadata": {},
   "source": [
    "### Lists\n",
    "\n",
    "- **Mutable** and **ordered** sequence of objects\n",
    "- Can be indexed, sliced, and changed\n",
    "- Lists can be used for any type of object, from numbers and strings to more lists."
   ]
  },
  {
   "cell_type": "code",
   "execution_count": 68,
   "id": "8cf4cf8b",
   "metadata": {},
   "outputs": [
    {
     "data": {
      "text/plain": [
       "[2.3, 1.0, 'Jeremy']"
      ]
     },
     "execution_count": 68,
     "metadata": {},
     "output_type": "execute_result"
    }
   ],
   "source": [
    "# Without lists, individual and unrelated variables\n",
    "# (imagine if you had hundreds of names)\n",
    "person1 = 'Mal'\n",
    "person2 = 'Zoe'\n",
    "person3 = 'Wash'\n",
    "person4 = 'Jayne'\n",
    "person5 = 'Kaylee'\n",
    "\n",
    "# Using lists, a data structure that contains many values\n",
    "people = ['Mal', 'Zoe', 'Wash', 'Jayne', 'Kaylee']\n",
    "\n",
    "# List creation\n",
    "empty_list = [] # brackets (square brackets)\n",
    "small_list = [2.3, 1.0, 'Jeremy'] # List elements separated by commas\n",
    "\n",
    "small_list"
   ]
  },
  {
   "cell_type": "code",
   "execution_count": 69,
   "id": "feee18ba",
   "metadata": {},
   "outputs": [],
   "source": [
    "large_animals = ['African Elephant', 'Asian Elephant', 'White Rhinoceros',\n",
    "                 'Hippopotamus', 'Gaur', 'Giraffe', 'Walrus', 'Black Rhinoceros', \n",
    "                 'Saltwater Crocodile', 'Water Buffalo']"
   ]
  },
  {
   "cell_type": "code",
   "execution_count": 78,
   "id": "f5ce53fe",
   "metadata": {},
   "outputs": [
    {
     "data": {
      "text/plain": [
       "'African Elephant'"
      ]
     },
     "execution_count": 78,
     "metadata": {},
     "output_type": "execute_result"
    }
   ],
   "source": [
    "# Access elements in a list\n",
    "large_animals[0]"
   ]
  },
  {
   "cell_type": "code",
   "execution_count": 86,
   "id": "60d3ccdf",
   "metadata": {},
   "outputs": [
    {
     "data": {
      "text/plain": [
       "['Hippopotamus',\n",
       " 'Gaur',\n",
       " 'Giraffe',\n",
       " 'Walrus',\n",
       " 'Black Rhinoceros',\n",
       " 'Saltwater Crocodile',\n",
       " 'Water Buffalo']"
      ]
     },
     "execution_count": 86,
     "metadata": {},
     "output_type": "execute_result"
    }
   ],
   "source": [
    "# Slicing [start:stop:step]\n",
    "large_animals[3:]"
   ]
  },
  {
   "cell_type": "code",
   "execution_count": 90,
   "id": "f7b7c16e",
   "metadata": {},
   "outputs": [
    {
     "data": {
      "text/plain": [
       "['Lion',\n",
       " 'Tiger',\n",
       " 'White Rhinoceros',\n",
       " 'Hippopotamus',\n",
       " 'Gaur',\n",
       " 'Giraffe',\n",
       " 'Walrus',\n",
       " 'Black Rhinoceros',\n",
       " 'Saltwater Crocodile',\n",
       " 'Water Buffalo']"
      ]
     },
     "execution_count": 90,
     "metadata": {},
     "output_type": "execute_result"
    }
   ],
   "source": [
    "# changing values\n",
    "large_animals[0:2] = ['Lion','Tiger']\n",
    "large_animals"
   ]
  },
  {
   "cell_type": "code",
   "execution_count": 91,
   "id": "e9c689a9",
   "metadata": {},
   "outputs": [
    {
     "data": {
      "text/plain": [
       "['Lion',\n",
       " 'Tiger',\n",
       " 'White Rhinoceros',\n",
       " 'Gaur',\n",
       " 'Giraffe',\n",
       " 'Walrus',\n",
       " 'Black Rhinoceros',\n",
       " 'Saltwater Crocodile',\n",
       " 'Water Buffalo']"
      ]
     },
     "execution_count": 91,
     "metadata": {},
     "output_type": "execute_result"
    }
   ],
   "source": [
    "# deleting\n",
    "del large_animals[3]\n",
    "large_animals"
   ]
  },
  {
   "cell_type": "code",
   "execution_count": 92,
   "id": "b9d4cb27",
   "metadata": {},
   "outputs": [],
   "source": [
    "# extending via .append()\n",
    "large_animals.append('Cat')"
   ]
  },
  {
   "cell_type": "code",
   "execution_count": 117,
   "id": "9cb3abe0",
   "metadata": {},
   "outputs": [
    {
     "data": {
      "text/plain": [
       "['Lion',\n",
       " 'Tiger',\n",
       " 'DOG',\n",
       " 'White Rhinoceros',\n",
       " 'Gaur',\n",
       " 'Giraffe',\n",
       " 'Walrus',\n",
       " 'Black Rhinoceros',\n",
       " 'Saltwater Crocodile',\n",
       " 'Water Buffalo',\n",
       " 'Cat']"
      ]
     },
     "execution_count": 117,
     "metadata": {},
     "output_type": "execute_result"
    }
   ],
   "source": [
    "large_animals.insert(2, 'DOG')\n",
    "large_animals"
   ]
  },
  {
   "cell_type": "code",
   "execution_count": null,
   "id": "dfd49f83",
   "metadata": {},
   "outputs": [],
   "source": []
  },
  {
   "cell_type": "code",
   "execution_count": 95,
   "id": "c14337da",
   "metadata": {},
   "outputs": [
    {
     "data": {
      "text/plain": [
       "['Lion',\n",
       " 'Tiger',\n",
       " 'White Rhinoceros',\n",
       " 'Gaur',\n",
       " 'Giraffe',\n",
       " 'Walrus',\n",
       " 'Black Rhinoceros',\n",
       " 'Saltwater Crocodile',\n",
       " 'Water Buffalo',\n",
       " 'Cat',\n",
       " 'Dog',\n",
       " 'Cow']"
      ]
     },
     "execution_count": 95,
     "metadata": {},
     "output_type": "execute_result"
    }
   ],
   "source": [
    "# extending via concatenation\n",
    "large_animals + ['Dog', 'Cow']"
   ]
  },
  {
   "cell_type": "code",
   "execution_count": 104,
   "id": "780a9cb8",
   "metadata": {},
   "outputs": [
    {
     "data": {
      "text/plain": [
       "'Big Cat'"
      ]
     },
     "execution_count": 104,
     "metadata": {},
     "output_type": "execute_result"
    }
   ],
   "source": [
    "# Lists within lists\n",
    "animal_kingdom = [\n",
    "  ['Elephant', 'Tiger', 'Dog', ['Cat', 'Big Cat']], \n",
    "  ['Whale', 'Dolphin', 'Shark', 'Eel'],\n",
    "  ['Eagle', 'Robin']\n",
    "]\n",
    "\n",
    "# indexing practice\n",
    "animal_kingdom[0][3][1]"
   ]
  },
  {
   "cell_type": "markdown",
   "id": "b8e5061a",
   "metadata": {},
   "source": [
    "#### String and List similarities"
   ]
  },
  {
   "cell_type": "code",
   "execution_count": 115,
   "id": "0d6000e9",
   "metadata": {},
   "outputs": [
    {
     "data": {
      "text/plain": [
       "['thi', 'i', 'really symbol', 'just a list of symbol', 'called characters']"
      ]
     },
     "execution_count": 115,
     "metadata": {},
     "output_type": "execute_result"
    }
   ],
   "source": [
    "# slices can be returned from strings the same as lists\n",
    "a = 'this is really symbols just a list of symbols called characters'\n",
    "\n",
    "# access a character\n",
    "a[-1]\n",
    "\n",
    "# access a slice\n",
    "a[-5:-1]\n",
    "\n",
    "# Splitting strings into lists\n",
    "a.split()\n",
    "\n",
    "# Splitting by a substring\n",
    "a.split('s ')"
   ]
  },
  {
   "cell_type": "markdown",
   "id": "fd0d5ea9",
   "metadata": {},
   "source": [
    "***"
   ]
  },
  {
   "cell_type": "markdown",
   "id": "cb2a2ca0",
   "metadata": {},
   "source": [
    "## Tuple\n",
    "- **immutable** and **ordered** objects\n",
    "- Similar to a list, but without some funcitonalities.\n",
    "- indexing and splitting similar to lists\n",
    "- More efficient"
   ]
  },
  {
   "cell_type": "code",
   "execution_count": 118,
   "id": "8c846b3d",
   "metadata": {},
   "outputs": [
    {
     "data": {
      "text/plain": [
       "3"
      ]
     },
     "execution_count": 118,
     "metadata": {},
     "output_type": "execute_result"
    }
   ],
   "source": [
    "len(animal_kingdom)"
   ]
  },
  {
   "cell_type": "code",
   "execution_count": 140,
   "id": "047b3174",
   "metadata": {},
   "outputs": [
    {
     "data": {
      "text/plain": [
       "True"
      ]
     },
     "execution_count": 140,
     "metadata": {},
     "output_type": "execute_result"
    }
   ],
   "source": [
    "x = (1, 'python', 'canada')\n",
    "y = 1.0 in x\n",
    "y"
   ]
  },
  {
   "cell_type": "code",
   "execution_count": null,
   "id": "f8939ab8",
   "metadata": {},
   "outputs": [],
   "source": [
    "# Definition - parentheses (round brackets) and elements separated by commas\n",
    "x = ('Simon', 'python', 'canada')\n",
    "\n",
    "# Getting the size of a tuple (or list)\n",
    "len(x)\n",
    "\n",
    "# Accessing one element\n",
    "y = x[0]     \n",
    "# >>> 'Simon'\n",
    "x[1]       \n",
    "# >>> 'python'\n",
    "\n",
    "# Accessing a sequence of entries\n",
    "y = x[1:3]\n",
    "# >>> ('python', 'canada')\n",
    "\n",
    "# \"Unpacking\" tuples (or lists)\n",
    "name, language, country = x \n",
    "# name = 'Simon', language = 'python', and country = 'canada'\n",
    "\n",
    "# Combining tuples\n",
    "y = (8, 2) + x  \n",
    "# (8, 2, 'Simon', 'python', 'canada')\n",
    "\n",
    "# Checking membership - this is faster with tuples\n",
    "y = 12 in x    # False (x does not contain the value 12)\n",
    "print(y)\n",
    "\n",
    "# You cannot modify tuple objects\n",
    "# They are 'immutable' (this is the essential difference from lists)\n",
    "# print(name, language, country)\n",
    "y"
   ]
  },
  {
   "cell_type": "markdown",
   "id": "997d7a83",
   "metadata": {},
   "source": [
    "\n",
    "\n",
    "It might seem weird that tuples are essentially just lists that can't be modified. What are they good for?  When performance isn't an issue (small amounts of data), it's all about code readability.\n",
    "\n",
    "When you use a tuple, you're telling the people who read your code \"this variable will not change\". \n",
    "In practice, people use lists for \"homogeneous\" data (i.e. a list of strings), whereas the elements in tuples are often \"heterogeneous\" and might include different data types and/or concepts. \n",
    "\n",
    "In the example above, the first entry represents my name, the second entry represents the programming language I'm using, and the third entry represents the country I live in. It would be **conceptually** strange to define these different concepts in the same list - since lists are usually homogeneous data. Tuples can be used as \"keys\" in dictionary data structures (which we'll see below), whereas lists cannot.\n",
    "\n",
    "These differences communicate the objects's function, and helps make your code more understandable.\n"
   ]
  },
  {
   "cell_type": "markdown",
   "id": "aaeab8d7",
   "metadata": {},
   "source": [
    "***"
   ]
  },
  {
   "cell_type": "markdown",
   "id": "140ee287",
   "metadata": {},
   "source": [
    "## Dictionary (dict)\n",
    "\n",
    "- Similar to lists, but elements are accessed using 'keys' rather than order.\n",
    "- 'keys' can take on numerous data types (str, int, floats, tuples) \n",
    "    - as long as the data type is ['hashable'](https://towardsdatascience.com/iterable-ordered-mutable-and-hashable-python-objects-explained-1254c9b9e421#:~:text=In%20particular%2C%20all%20the%20primitive,sets%2C%20and%20bytearrays%20are%20unhashable.)"
   ]
  },
  {
   "cell_type": "code",
   "execution_count": 145,
   "id": "25c88531",
   "metadata": {},
   "outputs": [
    {
     "data": {
      "text/plain": [
       "['marketing', 'computer science', 'snake studies']"
      ]
     },
     "execution_count": 145,
     "metadata": {},
     "output_type": "execute_result"
    }
   ],
   "source": [
    "# definition - braces, keys and values separated by colons,\n",
    "# commas between key and value pairs\n",
    "x = {'Student_ID': [1,2,3],\n",
    "    'Student_Name': 42,\n",
    "    'degree': ['marketing', 'computer science', 'snake studies']}\n",
    "\n",
    "# access a value\n",
    "x['degree']"
   ]
  },
  {
   "cell_type": "code",
   "execution_count": 148,
   "id": "0537aba9",
   "metadata": {},
   "outputs": [
    {
     "data": {
      "text/plain": [
       "{'Student_ID': [1, 2, 3],\n",
       " 'Student_Name': [42, 34, 55],\n",
       " 'degree': ['marketing', 'computer science', 'snake studies']}"
      ]
     },
     "execution_count": 148,
     "metadata": {},
     "output_type": "execute_result"
    }
   ],
   "source": [
    "# modifying values\n",
    "x['Student_Name'] = [42,34,55]\n",
    "x"
   ]
  },
  {
   "cell_type": "code",
   "execution_count": 151,
   "id": "c1f5fa7e",
   "metadata": {},
   "outputs": [
    {
     "data": {
      "text/plain": [
       "dict_keys(['Student_ID', 'Student_Name', 'degree'])"
      ]
     },
     "execution_count": 151,
     "metadata": {},
     "output_type": "execute_result"
    }
   ],
   "source": [
    "# retrieving keys\n",
    "x.keys()\n"
   ]
  },
  {
   "cell_type": "code",
   "execution_count": 154,
   "id": "1f423d28",
   "metadata": {},
   "outputs": [
    {
     "data": {
      "text/plain": [
       "dict_values([[1, 2, 3], [42, 34, 55], ['marketing', 'computer science', 'snake studies']])"
      ]
     },
     "execution_count": 154,
     "metadata": {},
     "output_type": "execute_result"
    }
   ],
   "source": [
    "# retrieving values\n",
    "x.values()"
   ]
  },
  {
   "cell_type": "code",
   "execution_count": 158,
   "id": "3f2a4650",
   "metadata": {},
   "outputs": [
    {
     "data": {
      "text/plain": [
       "dict_items([('Student_ID', [1, 2, 3]), ('Student_Name', [42, 34, 55]), ('degree', ['marketing', 'computer science', 'snake studies'])])"
      ]
     },
     "execution_count": 158,
     "metadata": {},
     "output_type": "execute_result"
    }
   ],
   "source": [
    "# retrieving keys and values\n",
    "x.items()"
   ]
  },
  {
   "cell_type": "markdown",
   "id": "d8ca1111",
   "metadata": {},
   "source": [
    "Note: Dictionaries should not be used as 'ordered' data types like lists, and it is dangerous to write your code in a way that uses the order of a dictionary. \n",
    "\n",
    "It makes no sense to say that the 'student_name'th entry comes before the 'degree'th entry, even though this is how we have written it above."
   ]
  },
  {
   "cell_type": "markdown",
   "id": "95be87ab",
   "metadata": {},
   "source": [
    "***"
   ]
  },
  {
   "cell_type": "markdown",
   "id": "882f5149",
   "metadata": {},
   "source": [
    "### Sets\n",
    "\n",
    "Data structure that:\n",
    "- are unordered, meaning there is no element 0 and element 1, and\n",
    "- The values contained are unique - meaning there are no duplicate entries."
   ]
  },
  {
   "cell_type": "code",
   "execution_count": 163,
   "id": "91fd81ce",
   "metadata": {},
   "outputs": [
    {
     "data": {
      "text/plain": [
       "{1.0, 2, 'apPle', 'apple'}"
      ]
     },
     "execution_count": 163,
     "metadata": {},
     "output_type": "execute_result"
    }
   ],
   "source": [
    "# definition - braces and commas between elements\n",
    "my_list = [2, 1.0, 'apple', 1.0, 'apPle', 1, 1.0]\n",
    "\n",
    "my_set = set(my_list)\n",
    "\n",
    "my_set"
   ]
  },
  {
   "cell_type": "markdown",
   "id": "8e27bec4",
   "metadata": {},
   "source": [
    "### Summary\n",
    "\n",
    "|Data Structure\t| Preserves order | Mutable | Symbol| Can contain duplicates | Can be sliced |\n",
    "|---------|------|------|------|------|------|\n",
    "|str\t|✓\t|☓\t|''  , \"\"|\t✓|✓|\n",
    "|list\t|✓\t|✓\t|[] |\t✓|✓|\n",
    "|tuple\t|✓\t|☓\t|() |\t✓|✓|\n",
    "|set\t|☓\t|✓\t|{} |\t☓|☓|\n",
    "|dict  |✓\t|✓\t|{ key : value} | \t☓| ☓|"
   ]
  },
  {
   "cell_type": "markdown",
   "id": "b846ecc8",
   "metadata": {},
   "source": [
    "***"
   ]
  },
  {
   "cell_type": "markdown",
   "id": "8b304718",
   "metadata": {},
   "source": [
    "### Booleans and Comparison"
   ]
  },
  {
   "cell_type": "code",
   "execution_count": 176,
   "id": "71686e1c",
   "metadata": {},
   "outputs": [
    {
     "data": {
      "text/plain": [
       "True"
      ]
     },
     "execution_count": 176,
     "metadata": {},
     "output_type": "execute_result"
    }
   ],
   "source": [
    "# Equality with strings\n",
    "a = '1 2 3'\n",
    "b = 'one two 3'\n",
    "a != b"
   ]
  },
  {
   "cell_type": "code",
   "execution_count": null,
   "id": "85f2d40f",
   "metadata": {},
   "outputs": [],
   "source": [
    "a = True\n",
    "b = False\n",
    "\n",
    "# ---------------------------------\n",
    "# Comparison Operators\n",
    "a = 14\n",
    "b = 5\n",
    "\n",
    "# Equal\n",
    "a == b # False\n",
    "\n",
    "# Not equal\n",
    "a != b\n",
    "\n",
    "# Greater than\n",
    "a > b\n",
    "\n",
    "# Greater than or equal to\n",
    "a >= b\n",
    "\n",
    "# Less than\n",
    "a < b\n",
    "\n",
    "# Less than or equal to\n",
    "a <= b\n",
    "\n",
    "# Equality with strings\n",
    "a = '1 2 3'\n",
    "b = 'one two 3'\n",
    "a == b\n",
    "a != b\n",
    "\n",
    "#---------------------------------\n",
    "# Logic operators (compound boolean expressions)\n",
    "\n",
    "# and - both must be True\n",
    "snow = False\n",
    "temperature = 28\n",
    "camping = temperature > 25 and snow == False\n",
    "print(camping)\n",
    "# >>> True\n",
    "\n",
    "snow = True\n",
    "camping = temperature > 25 and snow == False\n",
    "print(camping)\n",
    "# >>> False\n",
    "\n",
    "\n",
    "# or - either must be True\n",
    "has_coffee = True\n",
    "has_beer = True\n",
    "print(has_coffee or has_beer)\n",
    "# >>> True\n",
    "has_coffee = False\n",
    "print(has_coffee or has_beer)\n",
    "# >>> True\n"
   ]
  },
  {
   "cell_type": "code",
   "execution_count": 181,
   "id": "22d69015",
   "metadata": {},
   "outputs": [
    {
     "name": "stdout",
     "output_type": "stream",
     "text": [
      "False\n"
     ]
    }
   ],
   "source": [
    "has_coffee = False\n",
    "has_beer = False\n",
    "print(has_coffee or has_beer)"
   ]
  },
  {
   "cell_type": "markdown",
   "id": "63c2dd62",
   "metadata": {},
   "source": [
    "### Control structure (also refered to **control flow**): if/elif/else statements\n",
    "\n",
    "**if statements** are one of the most essential concepts in any programming language because they allow the code to execute differently depending on external values. The format of an if statement is as follows:\n",
    "\n",
    "- Essential Programming Concept, in any langauge. Allows the code to 'react' to circumstances.\n",
    "- Executes code only if a certain condition is met\n",
    "\n",
    "```python\n",
    "if [boolean expression]: # starts with if keyword then test condition\n",
    "    [what to do when the boolean expression evaluates to True]\n",
    "else:   # optional\n",
    "    [what to do when the boolean expression evaluates to False]\n",
    "```"
   ]
  },
  {
   "cell_type": "code",
   "execution_count": 183,
   "id": "d328d9c2",
   "metadata": {},
   "outputs": [
    {
     "name": "stdout",
     "output_type": "stream",
     "text": [
      "Linda has passed her course\n"
     ]
    }
   ],
   "source": [
    "# Using the data structure above, let's output something different depending on \n",
    "# whether or not someone passed the course\n",
    "course_marks = {'Linda': 84, 'Andrew': 100, 'Jasmine': 12}\n",
    "pass_mark = 80\n",
    "\n",
    "\n",
    "if course_marks['Linda'] > pass_mark:\n",
    "    print(\"Linda has passed her course\")\n",
    "\n",
    "else:\n",
    "    print(\"Linda has not passed\")\n",
    "    \n",
    "\n"
   ]
  },
  {
   "cell_type": "markdown",
   "id": "b26415b9",
   "metadata": {},
   "source": [
    "#### IFs and ELIFS\n",
    "```python\n",
    "if [boolean expression]: #starts with if keyword then test condition\n",
    "    [what to do when the boolean expression evaluates to True]\n",
    "elif [boolean expression]:\n",
    "    [what to do when the boolean expression evaluates to True]\n",
    "else:   # optional\n",
    "    [what to do when the boolean expression evaluates to False]\n",
    "```\n",
    "\n"
   ]
  },
  {
   "cell_type": "code",
   "execution_count": 188,
   "id": "13725f32",
   "metadata": {},
   "outputs": [
    {
     "name": "stdout",
     "output_type": "stream",
     "text": [
      "Fail\n"
     ]
    }
   ],
   "source": [
    "course_marks = {'Linda': 48, 'Andrew': 100, 'Jasmine': 12}\n",
    "\n",
    "if course_marks['Linda'] >= 90:\n",
    "    print(\"A\")\n",
    "    \n",
    "elif course_marks['Linda'] >= 80:\n",
    "    print(\"B\")\n",
    "    \n",
    "elif course_marks['Linda'] >= 70:\n",
    "    print(\"C\")\n",
    "    \n",
    "else:\n",
    "    print('Fail')\n",
    "    \n"
   ]
  },
  {
   "cell_type": "markdown",
   "id": "2977b6a1",
   "metadata": {},
   "source": [
    "### Nested Ifs"
   ]
  },
  {
   "cell_type": "code",
   "execution_count": 191,
   "id": "60fbe6e1",
   "metadata": {},
   "outputs": [
    {
     "name": "stdout",
     "output_type": "stream",
     "text": [
      "positive\n"
     ]
    }
   ],
   "source": [
    "a = 1\n",
    "if a > 0:\n",
    "    print('positive')\n",
    "elif a == 0:\n",
    "    print('zero')\n",
    "else:\n",
    "    print('negative')"
   ]
  },
  {
   "cell_type": "code",
   "execution_count": 190,
   "id": "27237130",
   "metadata": {},
   "outputs": [
    {
     "name": "stdout",
     "output_type": "stream",
     "text": [
      "negative Number\n"
     ]
    }
   ],
   "source": [
    "a = -45\n",
    "\n",
    "if a >= 0:\n",
    "    if a == 0:\n",
    "        print('zero')\n",
    "    else:\n",
    "        print('Positive Number')\n",
    "        \n",
    "else:\n",
    "    print(\"negative Number\")"
   ]
  },
  {
   "cell_type": "markdown",
   "id": "cd0bb7c5",
   "metadata": {},
   "source": [
    "## Control Flow: For Loops (definite iterations)\n",
    "\n",
    "If all we were able to do with lists, tuples, and dictionaries was store data in them, they would essentially\n",
    "just be useful for organizing our code and nothing else.\n",
    "Luckily, we can iterate through them using \"for\" loops. The \"for\" loop\n",
    "has the following format:\n",
    "```python\n",
    "for [loop variable] in [iterable object]:\n",
    "    [code to execute using loop variable]\n",
    "```"
   ]
  },
  {
   "cell_type": "code",
   "execution_count": 192,
   "id": "56b0d31c",
   "metadata": {},
   "outputs": [
    {
     "name": "stdout",
     "output_type": "stream",
     "text": [
      "s\n",
      "i\n",
      "m\n",
      "o\n",
      "n\n"
     ]
    }
   ],
   "source": [
    "# simple for loop\n",
    "\n",
    "my_name = \"simon\"\n",
    "\n",
    "for char in my_name:\n",
    "    print(char)\n"
   ]
  },
  {
   "cell_type": "code",
   "execution_count": 194,
   "id": "75d025b6",
   "metadata": {},
   "outputs": [
    {
     "name": "stdout",
     "output_type": "stream",
     "text": [
      "Linda has not passed\n",
      "Andrew has passed their course\n",
      "Jasmine has not passed\n"
     ]
    }
   ],
   "source": [
    "course_marks = {'Linda': 84, 'Andrew': 100, 'Jasmine': 12}\n",
    "\n",
    "students = course_marks.keys()\n",
    "# marks = course_marks.values()\n",
    "pass_mark = 85\n",
    "\n",
    "for student in students:\n",
    "    if course_marks[student] > pass_mark:\n",
    "        print(student + \" has passed their course\")\n",
    "\n",
    "    else:\n",
    "        print(student + \" has not passed\")\n",
    "# marks_list = list(marks)\n",
    "# marks_list"
   ]
  },
  {
   "cell_type": "code",
   "execution_count": 199,
   "id": "3d61ea3f",
   "metadata": {},
   "outputs": [
    {
     "name": "stdout",
     "output_type": "stream",
     "text": [
      "Elephant\n",
      "Tiger\n",
      "Dog\n",
      "Cat\n",
      "Big Cat\n",
      "Whale\n",
      "Dolphin\n",
      "Shark\n",
      "Eel\n",
      "Eagle\n",
      "Robin\n"
     ]
    }
   ],
   "source": [
    "animal_kingdom = [\n",
    "  ['Elephant', 'Tiger', 'Dog', ['Cat', 'Big Cat']], \n",
    "  ['Whale', 'Dolphin', 'Shark', 'Eel'],\n",
    "  ['Eagle', 'Robin']\n",
    "]\n",
    "\n",
    "\n",
    "# how can we extract all elements?\n",
    "for a_list in animal_kingdom:\n",
    "    for element in a_list:\n",
    "        if type(element)==str:\n",
    "            print(element)\n",
    "        else:\n",
    "            for animal in element:\n",
    "                print(animal)"
   ]
  },
  {
   "cell_type": "code",
   "execution_count": 200,
   "id": "8dada10b",
   "metadata": {},
   "outputs": [
    {
     "name": "stdout",
     "output_type": "stream",
     "text": [
      "435\n"
     ]
    }
   ],
   "source": [
    "# summing lists\n",
    "course_marks = [100, 90, 95, 80, 70]\n",
    "marks_sum = 0 # accumulator\n",
    "\n",
    "for mark in course_marks:\n",
    "    marks_sum += mark\n",
    "\n",
    "print(marks_sum)\n"
   ]
  },
  {
   "cell_type": "code",
   "execution_count": 202,
   "id": "12593187",
   "metadata": {},
   "outputs": [
    {
     "name": "stdout",
     "output_type": "stream",
     "text": [
      "[72, 90, 2]\n"
     ]
    }
   ],
   "source": [
    "# Iterating through lists (or tuples) by their index\n",
    "# this is necessary to change values in a list\n",
    "course_marks = [82, 100, 12]\n",
    "\n",
    "for index in range(len(course_marks)):\n",
    "    course_marks[index] -= 10\n",
    "    \n",
    "print(course_marks)"
   ]
  },
  {
   "cell_type": "code",
   "execution_count": null,
   "id": "126a3a0d",
   "metadata": {},
   "outputs": [],
   "source": [
    "course_marks = {'Linda': 72, 'Andrew': 100, 'Jasmine': 12}\n",
    "\n",
    "# iterating through dictionary keys\n",
    "    \n",
    "# iterating through dictionary values\n",
    "\n",
    "# what about iterating through a dictionary itself?\n"
   ]
  },
  {
   "cell_type": "markdown",
   "id": "3b6d075b",
   "metadata": {},
   "source": [
    "## Control Flow: While Loops (aka. indefinite iterations)\n",
    "\n",
    "Sometimes, we don't want our loop to iteratate through the values of some data structure, but\n",
    "instead want it to execute until some condition is no longer met. For this, we use a \"while\" loop, which has the\n",
    "following format:\n",
    "\n",
    "```python\n",
    "while [boolean expression]: #starts with a while keyword, followed by a test condition, ends with a colon :\n",
    "    [what you want to do each iteration] #loop body contains code that gets repeated. Must be indented 4 spaces.\n",
    "```"
   ]
  },
  {
   "cell_type": "code",
   "execution_count": null,
   "id": "2d8e76d0",
   "metadata": {},
   "outputs": [],
   "source": [
    "# Simple\n",
    "n = 10\n",
    "\n",
    "while n != -1:\n",
    "    print(n)\n",
    "    n -= 1"
   ]
  },
  {
   "cell_type": "code",
   "execution_count": null,
   "id": "4a10355d",
   "metadata": {},
   "outputs": [],
   "source": [
    "# BE CAREFUL with INFINITE LOOPS, you'll break the matrix\n",
    "# Can be useful, for example with code that interacts with hardware \n",
    "# may use an infinite loop to constantly check whether a button or \n",
    "# switch has been activated\n",
    "\n",
    "# CTRL + C forces a command line process to quit"
   ]
  },
  {
   "cell_type": "markdown",
   "id": "642ce2a5",
   "metadata": {},
   "source": [
    "***"
   ]
  },
  {
   "cell_type": "markdown",
   "id": "f0b96613",
   "metadata": {},
   "source": [
    "## Cooking Challenge\n",
    "\n",
    "Alberto is making spaghetti tonight and he needs to make sure that if he doesn't have enough of the ingredients in his pantry, he adds them to his shopping list.\n",
    "\n",
    "- For each item in the recipe, check if the ingredient is in Alberto's pantry.\n",
    "\n",
    "- If the recipe ingredient is in the pantry, check if the recipe requires more of the ingredient than what Alberto has in storage. If so, add the name and the quantity he needs to purchase as key-value pairs in the dictionary shopping_list.\n",
    "\n",
    "- If the recipe item is not in the pantry, add the ingredient and the quantity as **key-value pairs in the dictionary** shopping_list."
   ]
  },
  {
   "cell_type": "code",
   "execution_count": null,
   "id": "26551f64",
   "metadata": {},
   "outputs": [],
   "source": [
    "pantry = {'pasta': 3, 'garlic': 4,'sauce': 2,\n",
    "          'basil': 2, 'salt': 3, 'olive oil': 3,\n",
    "          'rice': 3, 'bread': 3, 'peanut butter': 1,\n",
    "          'flour': 1, 'eggs': 1, 'onions': 1, 'mushrooms': 3,\n",
    "          'broccoli': 2, 'butter': 2,'pickles': 6, 'milk': 2,\n",
    "          'chia seeds': 5}\n",
    "\n",
    "meal_recipe = {'pasta': 2, 'garlic': 2, 'sauce': 3,\n",
    "          'basil': 4, 'salt': 1, 'pepper': 2,\n",
    "          'olive oil': 2, 'onions': 2, 'mushrooms': 6}\n",
    "\n",
    "\n",
    "shopping_list = dict()"
   ]
  },
  {
   "cell_type": "markdown",
   "id": "f30f530f",
   "metadata": {},
   "source": [
    "```\n",
    "1. You have a meal recipe and you have a pantry.\n",
    "2. You read item by item in the meal recipe.\n",
    "3. FOR each item, you verify IF you have the item in your pantry.\n",
    "    3a. If you meet the previous condition, you verify IF you have enough of that item.\n",
    "4. ELSE you add the whole ingredient quantity to your shopping list.\n",
    "\n",
    "```"
   ]
  },
  {
   "cell_type": "code",
   "execution_count": null,
   "id": "550469b1",
   "metadata": {},
   "outputs": [],
   "source": [
    "### Solution\n"
   ]
  },
  {
   "cell_type": "markdown",
   "id": "641727c7",
   "metadata": {},
   "source": [
    "##  A brief word on markdown"
   ]
  }
 ],
 "metadata": {
  "kernelspec": {
   "display_name": "Python 3 (ipykernel)",
   "language": "python",
   "name": "python3"
  },
  "language_info": {
   "codemirror_mode": {
    "name": "ipython",
    "version": 3
   },
   "file_extension": ".py",
   "mimetype": "text/x-python",
   "name": "python",
   "nbconvert_exporter": "python",
   "pygments_lexer": "ipython3",
   "version": "3.9.7"
  }
 },
 "nbformat": 4,
 "nbformat_minor": 5
}
