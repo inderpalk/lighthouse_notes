{
 "cells": [
  {
   "cell_type": "markdown",
   "id": "1951593e",
   "metadata": {},
   "source": [
    "# Lighthouse Labs\n",
    "## W03D5 - Python Basics 2"
   ]
  },
  {
   "cell_type": "markdown",
   "id": "8d3fbc4d",
   "metadata": {},
   "source": [
    "## Agenda\n",
    "- general questions from compass\n",
    "    - data structures (yesterday)\n",
    "    - environment setup\n",
    "        - IDEs\n",
    "        - anaconda/conda vs vanilla python/pip\n",
    "        - virtual environments\n",
    "    - TIs\n",
    "***\n",
    "- functions\n",
    "    - use cases\n",
    "    - anatomy\n",
    "    - best practices\n",
    "***\n",
    "### - break -\n",
    "***\n",
    "- problem solving approaches\n",
    "    - breaking a problem down\n",
    "    - pseudocode\n",
    "    - usage of lists/dicts/tuples/sets\n"
   ]
  },
  {
   "cell_type": "markdown",
   "id": "3fb3920b",
   "metadata": {},
   "source": [
    "***"
   ]
  },
  {
   "cell_type": "markdown",
   "id": "4a4a62d3",
   "metadata": {},
   "source": [
    "## Functions\n",
    "A **function** lets us create a shortcut to a chunk of code, which takes some **inputs** and (sometimes) returns some **outputs**. \n",
    "Think of it as a mini-program that we can reuse as many times as we want in the rest of our code. \n",
    "\n",
    "This is one of the most powerful tools at your disposal as a programmer, and you should try to make a function out of any chunk of code that shares a concrete purpose. \n",
    "\n",
    "As a general rule, **if you can give a simple name to describe what a section of code does, it should be a function.**\n",
    "This is called *modular programming*, and it will make your code both easier to write and understand.\n",
    "\n",
    "\n"
   ]
  },
  {
   "cell_type": "code",
   "execution_count": null,
   "id": "95f29bff",
   "metadata": {},
   "outputs": [],
   "source": [
    "# example function\n",
    "def say_hello(name):\n",
    "    print('Hello ' + name + '.')\n",
    "    \n",
    "say_hello('Simon')"
   ]
  },
  {
   "cell_type": "markdown",
   "id": "1366119b",
   "metadata": {},
   "source": [
    "## Function Use Cases"
   ]
  },
  {
   "cell_type": "markdown",
   "id": "47f7b6e6",
   "metadata": {},
   "source": [
    "#### Why do we need functions? What are they used for? When is a function necessary/helpful?"
   ]
  },
  {
   "cell_type": "markdown",
   "id": "b555fb10",
   "metadata": {},
   "source": [
    "##### Organization\n",
    "- as projects get larger, organization becomes more difficult\n",
    "- functions act like miniature 'programs' that perform a task we frequently need\n",
    "- this allows us to break a large project into smaller, more manageable chunks"
   ]
  },
  {
   "cell_type": "markdown",
   "id": "c94e12f4",
   "metadata": {},
   "source": [
    "##### Reusability\n",
    "- functions only have to be written once, and can be used many times within a project\n",
    "- avoid duplicated code\n",
    "- reduce the possibility of copy-paste errors\n",
    "- can be reused in another project\n",
    "    - reduce the amount of rewriting (and retesting) from scratch"
   ]
  },
  {
   "cell_type": "markdown",
   "id": "1dcec31e",
   "metadata": {},
   "source": [
    "##### Extensibility\n",
    "- sometimes we need to change our code's behavior slightly\n",
    "- a change only has to be made in one place (in the function definition) for it to take effect everywhere the function is used"
   ]
  },
  {
   "cell_type": "markdown",
   "id": "a2658273",
   "metadata": {},
   "source": [
    "##### Abstraction\n",
    "- to use a function, you don't need to know how it works, only:\n",
    "    - its name\n",
    "    - its inputs and outputs\n",
    "    - where it's located\n",
    "- this lowers the amount of knowledge needed to use other people's code (or your own)\n",
    "    - the python standard library is a great example"
   ]
  },
  {
   "cell_type": "markdown",
   "id": "4f5d1776",
   "metadata": {},
   "source": [
    "##### Testing\n",
    "- functions reduce code redundancy, so less code to test in the first place\n",
    "- functions are self-contained, so once we've tested them we don't need to retest them unless we change them directly\n",
    "- reduces the amount of code we need to test at one time"
   ]
  },
  {
   "cell_type": "code",
   "execution_count": null,
   "id": "f6fb34f0",
   "metadata": {},
   "outputs": [],
   "source": [
    "# EXAMPLE - a series of common text cleaning operations\n",
    "\n",
    "text_sample = '''Lawrence, an experienced and sophisticated con artist, \n",
    "enjoys a luxurious lifestyle by tricking wealthy women out of their fortunes. \n",
    "When Freddy, a small-time hustler with a knack for manipulating unsuspecting tourists, \n",
    "arrives in town, he becomes a threat to Lawrence's lucrative schemes.'''\n",
    "\n",
    "# lowercase\n",
    "text = text_sample.lower()\n",
    "\n",
    "# remove punctuation\n",
    "punct = \"!\\\"#$%&'()*+,-./:;<=>?@[\\]^_`{|}~\"\n",
    "for symbol in punct:\n",
    "    text = text.replace(symbol, '')\n",
    "\n",
    "# remove newlines\n",
    "text = text.replace('\\n', '')\n",
    "\n",
    "# split into words\n",
    "text_list = text.split(' ')\n",
    "\n",
    "# remove stopwords\n",
    "from sklearn.feature_extraction.text import ENGLISH_STOP_WORDS\n",
    "stopwords = ENGLISH_STOP_WORDS\n",
    "no_stopwords = []\n",
    "for word in text_list:\n",
    "    if word not in stopwords:\n",
    "        no_stopwords.append(word)\n",
    "\n",
    "# merge back to single string\n",
    "text = ' '.join(no_stopwords)\n",
    "\n",
    "print(text_sample)\n",
    "print('='*80)\n",
    "print(text)\n"
   ]
  },
  {
   "cell_type": "markdown",
   "id": "e401478f",
   "metadata": {},
   "source": [
    "The above script works fine for a small project, but organization is not great, and reuse is difficult.\n",
    "\n",
    "Here is the same process in functions:"
   ]
  },
  {
   "cell_type": "code",
   "execution_count": null,
   "id": "ee5f3474",
   "metadata": {},
   "outputs": [],
   "source": [
    "# Text cleaning pipeline\n",
    "\n",
    "def remove_punctuation(text, punctuation):\n",
    "    \"\"\"Remove provided punctuation from input string\n",
    "    Args:\n",
    "        text(str): the text to remove punctuation from\n",
    "        punctuation(str): the punctuation symbols to remove\n",
    "    Returns:\n",
    "        cleaned text (str)\n",
    "    Example:\n",
    "    remove_punctuation('hi!', '!@#$')\n",
    "    >>> 'hi'\n",
    "    \"\"\"\n",
    "    for symbol in punctuation:\n",
    "        text = text.replace(symbol, '')\n",
    "    return text\n",
    "\n",
    "def remove_newlines(text, newline_char='\\n'):\n",
    "    \"\"\"Remove newlines from provided text.\n",
    "    Args:\n",
    "        text(str): text to remove newlines from\n",
    "        newline_char(str default '\\n'): newline symbol to remove\n",
    "    Returns:\n",
    "        text without newlines (str)\n",
    "    \"\"\"\n",
    "    return text.replace(newline_char, '')\n",
    "\n",
    "def remove_stopwords(text, stopwords, DEBUG=False):\n",
    "    stopwords_set = set(stopwords)\n",
    "    if DEBUG:\n",
    "        print('stopword set:', stopwords_set)\n",
    "    no_stopwords = []\n",
    "    for word in text:\n",
    "        if DEBUG:\n",
    "            print('checking if ' + word + ' in input text')\n",
    "        if word not in stopwords_set:\n",
    "            no_stopwords.append(word)\n",
    "    return no_stopwords\n",
    "\n",
    "def join_words_into_string(word_list):\n",
    "    return ' '.join(word_list)\n",
    "\n",
    "def text_cleaning_pipeline(raw_text, punctuation, stopwords, DEBUG=False):\n",
    "    text = raw_text.lower()\n",
    "    no_punct = remove_punctuation(text, punctuation)\n",
    "    no_newlines = remove_newlines(no_punct)\n",
    "    split_words = no_newlines.split(' ')\n",
    "    no_stopwords = remove_stopwords(split_words, stopwords)\n",
    "    joined_string = join_words_into_string(no_stopwords)\n",
    "    return joined_string\n",
    "\n",
    "\n",
    "##########################################\n",
    "text_sample = '''Lawrence, an experienced and sophisticated con artist, \n",
    "enjoys a luxurious lifestyle by tricking wealthy women out of their fortunes. \n",
    "When Freddy, a small-time hustler with a knack for manipulating unsuspecting tourists, \n",
    "arrives in town, he becomes a threat to Lawrence's lucrative schemes.'''\n",
    "\n",
    "punct = \"!\\\"#$%&'()*+,-./:;<=>?@[\\]^_`{|}~\"\n",
    "\n",
    "cleaned_text = text_cleaning_pipeline(raw_text=text_sample, punctuation=punct, stopwords=ENGLISH_STOP_WORDS)\n",
    "print(text_sample)\n",
    "print('='*80)\n",
    "print(cleaned_text)"
   ]
  },
  {
   "cell_type": "markdown",
   "id": "e370d0b5",
   "metadata": {},
   "source": [
    "***"
   ]
  },
  {
   "cell_type": "markdown",
   "id": "654b2cca",
   "metadata": {},
   "source": [
    "### Anatomy\n",
    "\n",
    "The format of a function definition is as follows:\n",
    "```python\n",
    "def function_name(param_1, param_2, etc.):\n",
    "    [code which uses the parameters]\n",
    "    return val_1, val_2, etc.\n",
    "```\n",
    "Note that a function need not have any paremeters at all, and does not need to return anything.\n",
    "\n",
    "Elsewhere in our script, we can \"call\" our function as follows, substituting any values we want, and storing its output in a variable\n",
    "```python\n",
    "output = function_name(arg_1, arg_2, etc.)\n",
    "```\n",
    "***\n",
    "##### *Note on arguments vs parameters:*\n",
    "- parameters are the variables in the function definition\n",
    "- arguments are the actual objects/values passed into the function when it's called\n",
    "\n",
    "in the following, `num_of_stars` is a parameter, `88` is an argument.\n",
    "```python\n",
    "def print_stars(num_of_stars):\n",
    "    print('*' *  num_of_stars)\n",
    "print_stars(88)\n",
    "```"
   ]
  },
  {
   "cell_type": "markdown",
   "id": "b32b0cce",
   "metadata": {},
   "source": [
    "***"
   ]
  },
  {
   "cell_type": "markdown",
   "id": "98c66696",
   "metadata": {},
   "source": [
    "## Best Practices\n",
    "##### General guidelines for good usage of functions"
   ]
  },
  {
   "cell_type": "markdown",
   "id": "f60b9001",
   "metadata": {},
   "source": [
    "1. Descriptive, meaningful function names\n",
    "```python\n",
    "# helpful\n",
    "calculate_weighted_average(values, weights)\n",
    "# unhelpful\n",
    "wa(a, b)\n",
    "```\n"
   ]
  },
  {
   "cell_type": "markdown",
   "id": "a43b0e96",
   "metadata": {},
   "source": [
    "2. Small and focused functions (can still be run by a helper function though!)\n",
    "```python\n",
    "# good\n",
    "remove_punctuation(text)\n",
    "# bad\n",
    "process_3(x)\n",
    "```"
   ]
  },
  {
   "cell_type": "markdown",
   "id": "046832c6",
   "metadata": {},
   "source": [
    "3. Docstrings\n",
    "Keep your future self sane!\n",
    "[Common Doctsring Conventions](https://stackoverflow.com/questions/3898572/what-are-the-most-common-python-docstring-formats)\n",
    "\n",
    "```python\n",
    "def calculate_average(numbers):\n",
    "    \"\"\"\n",
    "    Calculate the average of a list of numbers.\n",
    "    \n",
    "    Args:\n",
    "        numbers (list): A list of numbers.\n",
    "    \n",
    "    Returns:\n",
    "        float: The average of the numbers.\n",
    "    \"\"\"\n",
    "    # function implementation\n",
    "```\n",
    "##### Note the use of triple **double** quotes - per [PEP-257](https://peps.python.org/pep-0257/)\n",
    "\n",
    "### Exercise: add docstrings to our text cleaning functions"
   ]
  },
  {
   "cell_type": "markdown",
   "id": "97a100e4",
   "metadata": {},
   "source": [
    "4. Readability over cleverness\n",
    "\n",
    "\n",
    "```python\n",
    "# readable\n",
    "def calculate_fibonacci_sequence(n):\n",
    "    \"\"\"\n",
    "    Calculate the Fibonacci sequence up to the nth term.\n",
    "    \n",
    "    Args:\n",
    "        n (int): The number of terms to calculate.\n",
    "    \n",
    "    Returns:\n",
    "        list: A list of Fibonacci sequence terms.\n",
    "    \"\"\"\n",
    "    sequence = [0, 1]  # Start with the base sequence [0, 1]\n",
    "    \n",
    "    if n <= 1:\n",
    "        return sequence[:n+1]  # Return the first n terms\n",
    "    \n",
    "    while len(sequence) < n+1:\n",
    "        next_term = sequence[-1] + sequence[-2]  # Calculate the next term\n",
    "        sequence.append(next_term)  # Add the next term to the sequence\n",
    "    \n",
    "    return sequence\n",
    "```\n",
    "\n",
    "```python\n",
    "# clever\n",
    "def calculate_fibonacci_sequence(n):\n",
    "    \"\"\"\n",
    "    Calculate the Fibonacci sequence up to the nth term.\n",
    "    \n",
    "    Args:\n",
    "        n (int): The number of terms to calculate.\n",
    "    \n",
    "    Returns:\n",
    "        list: A list of Fibonacci sequence terms.\n",
    "    \"\"\"\n",
    "    return [fib(i) for i in range(n+1)]\n",
    "    \n",
    "def fib(n):\n",
    "    return n if n <= 1 else fib(n-1) + fib(n-2)\n",
    "```\n",
    "***\n",
    "\n",
    "### Reflection: do all of our text cleaning functions follow this rule?"
   ]
  },
  {
   "cell_type": "markdown",
   "id": "a3366586",
   "metadata": {},
   "source": [
    "***\n",
    "### Example problems after break\n",
    "- katas\n",
    "- other compass work\n",
    "- challenge from yesterday's lecture\n",
    "***"
   ]
  },
  {
   "cell_type": "code",
   "execution_count": null,
   "id": "a6e2bed1",
   "metadata": {},
   "outputs": [],
   "source": []
  },
  {
   "cell_type": "code",
   "execution_count": null,
   "id": "81acc0c9",
   "metadata": {},
   "outputs": [],
   "source": []
  },
  {
   "cell_type": "code",
   "execution_count": null,
   "id": "ae4aef88",
   "metadata": {},
   "outputs": [],
   "source": []
  },
  {
   "cell_type": "code",
   "execution_count": null,
   "id": "a81b0f88",
   "metadata": {},
   "outputs": [],
   "source": []
  },
  {
   "cell_type": "markdown",
   "id": "0a52ebe5",
   "metadata": {},
   "source": [
    "# Problem Solving Approaches\n",
    "\n",
    "### Breaking a problem down\n",
    "- smaller tasks are easier to understand/tackle\n",
    "- more potential for modularity and therefore reusability\n",
    "- easier collaboration\n",
    "\n",
    "### Pseudocode\n",
    "- further breaking down of the problem solving process\n",
    "- separates the design from the programming\n",
    "- easier to understand version of your approach - easier to spot errors in logic\n"
   ]
  },
  {
   "cell_type": "markdown",
   "id": "2a70b425",
   "metadata": {},
   "source": [
    "## Problem 1 - *Cooking Challenge*\n",
    "\n",
    "Alberto is making spaghetti tonight and he needs to make sure that if he doesn't have enough of the ingredients in his pantry, he adds them to his shopping list.\n",
    "\n",
    "- For each item in the recipe, check if the ingredient is in Alberto's pantry.\n",
    "\n",
    "- If the recipe ingredient is in the pantry, check if the recipe requires more of the ingredient than what Alberto has in storage. If so, add the name and the quantity he needs to purchase as key-value pairs in the dictionary shopping_list.\n",
    "\n",
    "- If the recipe item is not in the pantry, add the ingredient and the quantity as **key-value pairs in the dictionary** shopping_list."
   ]
  },
  {
   "cell_type": "code",
   "execution_count": null,
   "id": "3a26bc5a",
   "metadata": {},
   "outputs": [],
   "source": [
    "pantry = {'pasta': 3, 'garlic': 4,'sauce': 2,\n",
    "          'basil': 2, 'salt': 3, 'olive oil': 3,\n",
    "          'rice': 3, 'bread': 3, 'peanut butter': 1,\n",
    "          'flour': 1, 'eggs': 1, 'onions': 1, 'mushrooms': 3,\n",
    "          'broccoli': 2, 'butter': 2,'pickles': 6, 'milk': 2,\n",
    "          'chia seeds': 5}\n",
    "\n",
    "meal_recipe = {'pasta': 2, 'garlic': 2, 'sauce': 3,\n",
    "          'basil': 4, 'salt': 1, 'pepper': 2,\n",
    "          'olive oil': 2, 'onions': 2, 'mushrooms': 6}\n",
    "\n",
    "\n",
    "shopping_list = dict()"
   ]
  },
  {
   "cell_type": "code",
   "execution_count": null,
   "id": "bcf2b9a3",
   "metadata": {},
   "outputs": [],
   "source": []
  },
  {
   "cell_type": "code",
   "execution_count": null,
   "id": "3ce5f794",
   "metadata": {},
   "outputs": [],
   "source": []
  },
  {
   "cell_type": "code",
   "execution_count": null,
   "id": "fc7d87de",
   "metadata": {},
   "outputs": [],
   "source": []
  },
  {
   "cell_type": "code",
   "execution_count": null,
   "id": "316f16ef",
   "metadata": {},
   "outputs": [],
   "source": []
  },
  {
   "cell_type": "markdown",
   "id": "f64490bd",
   "metadata": {},
   "source": [
    "# Problem 2 - *Poker Hands*\n",
    "\n",
    "In this challenge, we have to determine which kind of Poker combination is present in a deck of 5 cards. Every card is a string containing the card value **with the upper-case initial for face-cards** and the **lower-case initial for the suit**, as seen in the examples below:\n",
    "\n",
    "> \"Ah\" = Ace of hearts <br>\n",
    "> \"Ks\" = King of spades<br>\n",
    "> \"3d\" = Three of diamonds<br>\n",
    "> \"Qc\" = Queen of clubs <br>\n",
    "\n",
    "There are 10 different combinations. Here's the list, in descending order of importance:"
   ]
  },
  {
   "cell_type": "markdown",
   "id": "707593dc",
   "metadata": {},
   "source": [
    "| Name            | Description                                         |\n",
    "|-----------------|-----------------------------------------------------|\n",
    "| Royal Flush     | A, K, Q, J, 10, all with the same suit.             |\n",
    "| Straight Flush  | Five cards in sequence, all with the same suit.     |\n",
    "| Four of a Kind  | Four cards of the same rank.                        |\n",
    "| Full House      | Three of a Kind with a Pair.                        |\n",
    "| Flush           | Any five cards of the same suit, not in sequence    |\n",
    "| Straight        | Five cards in a sequence, but not of the same suit. |\n",
    "| Three of a Kind | Three cards of the same rank.                       |\n",
    "| Two Pair        | Two different Pairs.                                |\n",
    "| Pair            | Two cards of the same rank.                         |\n",
    "| High Card       | No other valid combination.                         |\n",
    "\n",
    "---------"
   ]
  },
  {
   "cell_type": "markdown",
   "id": "8087ef38",
   "metadata": {},
   "source": [
    "####  Given a list `hand` containing five strings representing the cards,implement a function called `poker_hand_ranking()` that **returns a string with the name of the highest value combination obtained,** according to the table above.\n",
    "\n",
    "**Examples:**\n",
    "\n",
    "```\n",
    "poker_hand_ranking([\"10h\", \"Jh\", \"Qh\", \"Ah\", \"Kh\"])\n",
    ">>> \"Royal Flush\"\n",
    "poker_hand_ranking([\"3h\", \"5h\", \"Qs\", \"9h\", \"Ad\"])\n",
    ">>> \"High Card\"\n",
    "poker_hand_ranking([\"10s\", \"10c\", \"8d\", \"10d\", \"10h\"])\n",
    ">>> \"Four of a Kind\"\n",
    "```"
   ]
  },
  {
   "cell_type": "code",
   "execution_count": null,
   "id": "171f500d",
   "metadata": {},
   "outputs": [],
   "source": []
  },
  {
   "cell_type": "code",
   "execution_count": null,
   "id": "dcd6cf3e",
   "metadata": {},
   "outputs": [],
   "source": []
  },
  {
   "cell_type": "code",
   "execution_count": null,
   "id": "e04b7e4c",
   "metadata": {},
   "outputs": [],
   "source": []
  }
 ],
 "metadata": {
  "kernelspec": {
   "display_name": "Python 3 (ipykernel)",
   "language": "python",
   "name": "python3"
  },
  "language_info": {
   "codemirror_mode": {
    "name": "ipython",
    "version": 3
   },
   "file_extension": ".py",
   "mimetype": "text/x-python",
   "name": "python",
   "nbconvert_exporter": "python",
   "pygments_lexer": "ipython3",
   "version": "3.9.7"
  }
 },
 "nbformat": 4,
 "nbformat_minor": 5
}
